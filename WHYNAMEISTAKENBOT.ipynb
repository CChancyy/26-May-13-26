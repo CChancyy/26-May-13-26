{
  "cells": [
    {
      "cell_type": "markdown",
      "metadata": {
        "id": "view-in-github",
        "colab_type": "text"
      },
      "source": [
        "<a href=\"https://colab.research.google.com/github/CChancyy/Telegram-Bot-/blob/main/WHYNAMEISTAKENBOT.ipynb\" target=\"_parent\"><img src=\"https://colab.research.google.com/assets/colab-badge.svg\" alt=\"Open In Colab\"/></a>"
      ]
    },
    {
      "cell_type": "code",
      "execution_count": 81,
      "metadata": {
        "colab": {
          "base_uri": "https://localhost:8080/"
        },
        "id": "RSPOBWNWKvox",
        "outputId": "c0a56d6c-7fbb-432d-97a4-13df389e97f9"
      },
      "outputs": [
        {
          "output_type": "stream",
          "name": "stdout",
          "text": [
            "Looking in indexes: https://pypi.org/simple, https://us-python.pkg.dev/colab-wheels/public/simple/\n",
            "Requirement already satisfied: python-telegram-bot in /usr/local/lib/python3.10/dist-packages (20.3)\n",
            "Requirement already satisfied: httpx~=0.24.0 in /usr/local/lib/python3.10/dist-packages (from python-telegram-bot) (0.24.1)\n",
            "Requirement already satisfied: certifi in /usr/local/lib/python3.10/dist-packages (from httpx~=0.24.0->python-telegram-bot) (2022.12.7)\n",
            "Requirement already satisfied: httpcore<0.18.0,>=0.15.0 in /usr/local/lib/python3.10/dist-packages (from httpx~=0.24.0->python-telegram-bot) (0.17.2)\n",
            "Requirement already satisfied: idna in /usr/local/lib/python3.10/dist-packages (from httpx~=0.24.0->python-telegram-bot) (3.4)\n",
            "Requirement already satisfied: sniffio in /usr/local/lib/python3.10/dist-packages (from httpx~=0.24.0->python-telegram-bot) (1.3.0)\n",
            "Requirement already satisfied: h11<0.15,>=0.13 in /usr/local/lib/python3.10/dist-packages (from httpcore<0.18.0,>=0.15.0->httpx~=0.24.0->python-telegram-bot) (0.14.0)\n",
            "Requirement already satisfied: anyio<5.0,>=3.0 in /usr/local/lib/python3.10/dist-packages (from httpcore<0.18.0,>=0.15.0->httpx~=0.24.0->python-telegram-bot) (3.6.2)\n",
            "Looking in indexes: https://pypi.org/simple, https://us-python.pkg.dev/colab-wheels/public/simple/\n",
            "Requirement already satisfied: nest_asyncio in /usr/local/lib/python3.10/dist-packages (1.5.6)\n"
          ]
        }
      ],
      "source": [
        "!pip install python-telegram-bot\n",
        "!pip install nest_asyncio"
      ]
    },
    {
      "cell_type": "code",
      "execution_count": 82,
      "metadata": {
        "id": "zR-_qja31kv7"
      },
      "outputs": [],
      "source": [
        "# Workaround for nested event loops in Jupyter\n",
        "# As Jupyter notebooks already have a running loop via Tornado and the asyncio lib does not allow a nested loop, we need to use a separate package called nest_asyncio\n",
        "import nest_asyncio\n",
        "import asyncio\n",
        "\n",
        "nest_asyncio.apply() "
      ]
    },
    {
      "cell_type": "code",
      "execution_count": 83,
      "metadata": {
        "id": "IZKv7o40i8bh"
      },
      "outputs": [],
      "source": [
        "# Enable logging\n",
        "import logging\n",
        "logging.basicConfig(\n",
        "    format='%(asctime)s - %(name)s - %(levelname)s - %(message)s', level=logging.INFO\n",
        ")\n",
        "\n",
        "logger = logging.getLogger(__name__)"
      ]
    },
    {
      "cell_type": "code",
      "execution_count": 84,
      "metadata": {
        "id": "T2ZUp3SQlf-6"
      },
      "outputs": [],
      "source": [
        "# Your token goes here\n",
        "token = \"6053362203:AAFcQ_Yo6MPIMf8fhiHQFMSViOYNK4tyDH8\""
      ]
    },
    {
      "cell_type": "markdown",
      "metadata": {
        "id": "TEeYv9FtKuIz"
      },
      "source": [
        "# Our First Bot!\n",
        "\n",
        "We will learn the basics here."
      ]
    },
    {
      "cell_type": "code",
      "execution_count": 85,
      "metadata": {
        "id": "lhEpLJBb1yxe"
      },
      "outputs": [],
      "source": [
        "from telegram import Update\n",
        "from telegram.constants import ParseMode\n",
        "from telegram import InlineQueryResultArticle, InputTextMessageContent\n",
        "from telegram.ext import filters, MessageHandler, ApplicationBuilder, CommandHandler, ContextTypes, InlineQueryHandler\n",
        "import math\n",
        "from random import random\n",
        "import datetime\n",
        "from telegram import ReplyKeyboardMarkup, ReplyKeyboardRemove, Update\n",
        "from telegram import *\n",
        "from telegram.ext import *\n",
        "from requests import *\n",
        "\n"
      ]
    },
    {
      "cell_type": "code",
      "execution_count": 110,
      "metadata": {
        "colab": {
          "base_uri": "https://localhost:8080/",
          "height": 346
        },
        "collapsed": true,
        "id": "uwn9P4z0EAXm",
        "outputId": "cbaaa5b2-c8b6-4e83-e9b8-f36830151b7b"
      },
      "outputs": [
        {
          "output_type": "error",
          "ename": "RuntimeError",
          "evalue": "ignored",
          "traceback": [
            "\u001b[0;31m---------------------------------------------------------------------------\u001b[0m",
            "\u001b[0;31mRuntimeError\u001b[0m                              Traceback (most recent call last)",
            "\u001b[0;32m<ipython-input-110-714d6753f45a>\u001b[0m in \u001b[0;36m<cell line: 179>\u001b[0;34m()\u001b[0m\n\u001b[1;32m    177\u001b[0m     \u001b[0masyncio\u001b[0m\u001b[0;34m.\u001b[0m\u001b[0mrun\u001b[0m\u001b[0;34m(\u001b[0m\u001b[0mapplication\u001b[0m\u001b[0;34m.\u001b[0m\u001b[0mrun_polling\u001b[0m\u001b[0;34m(\u001b[0m\u001b[0;34m)\u001b[0m\u001b[0;34m)\u001b[0m\u001b[0;34m\u001b[0m\u001b[0;34m\u001b[0m\u001b[0m\n\u001b[1;32m    178\u001b[0m \u001b[0;34m\u001b[0m\u001b[0m\n\u001b[0;32m--> 179\u001b[0;31m \u001b[0mmain\u001b[0m\u001b[0;34m(\u001b[0m\u001b[0;34m)\u001b[0m\u001b[0;34m\u001b[0m\u001b[0;34m\u001b[0m\u001b[0m\n\u001b[0m",
            "\u001b[0;32m<ipython-input-110-714d6753f45a>\u001b[0m in \u001b[0;36mmain\u001b[0;34m()\u001b[0m\n\u001b[1;32m    175\u001b[0m     \u001b[0;31m# loop.create_task(application.run_polling())\u001b[0m\u001b[0;34m\u001b[0m\u001b[0;34m\u001b[0m\u001b[0m\n\u001b[1;32m    176\u001b[0m     \u001b[0;31m# Python version >= 3.7\u001b[0m\u001b[0;34m\u001b[0m\u001b[0;34m\u001b[0m\u001b[0m\n\u001b[0;32m--> 177\u001b[0;31m     \u001b[0masyncio\u001b[0m\u001b[0;34m.\u001b[0m\u001b[0mrun\u001b[0m\u001b[0;34m(\u001b[0m\u001b[0mapplication\u001b[0m\u001b[0;34m.\u001b[0m\u001b[0mrun_polling\u001b[0m\u001b[0;34m(\u001b[0m\u001b[0;34m)\u001b[0m\u001b[0;34m)\u001b[0m\u001b[0;34m\u001b[0m\u001b[0;34m\u001b[0m\u001b[0m\n\u001b[0m\u001b[1;32m    178\u001b[0m \u001b[0;34m\u001b[0m\u001b[0m\n\u001b[1;32m    179\u001b[0m \u001b[0mmain\u001b[0m\u001b[0;34m(\u001b[0m\u001b[0;34m)\u001b[0m\u001b[0;34m\u001b[0m\u001b[0;34m\u001b[0m\u001b[0m\n",
            "\u001b[0;32m/usr/local/lib/python3.10/dist-packages/telegram/ext/_application.py\u001b[0m in \u001b[0;36mrun_polling\u001b[0;34m(self, poll_interval, timeout, bootstrap_retries, read_timeout, write_timeout, connect_timeout, pool_timeout, allowed_updates, drop_pending_updates, close_loop, stop_signals)\u001b[0m\n\u001b[1;32m    725\u001b[0m             \u001b[0mself\u001b[0m\u001b[0;34m.\u001b[0m\u001b[0mcreate_task\u001b[0m\u001b[0;34m(\u001b[0m\u001b[0mself\u001b[0m\u001b[0;34m.\u001b[0m\u001b[0mprocess_error\u001b[0m\u001b[0;34m(\u001b[0m\u001b[0merror\u001b[0m\u001b[0;34m=\u001b[0m\u001b[0mexc\u001b[0m\u001b[0;34m,\u001b[0m \u001b[0mupdate\u001b[0m\u001b[0;34m=\u001b[0m\u001b[0;32mNone\u001b[0m\u001b[0;34m)\u001b[0m\u001b[0;34m)\u001b[0m\u001b[0;34m\u001b[0m\u001b[0;34m\u001b[0m\u001b[0m\n\u001b[1;32m    726\u001b[0m \u001b[0;34m\u001b[0m\u001b[0m\n\u001b[0;32m--> 727\u001b[0;31m         return self.__run(\n\u001b[0m\u001b[1;32m    728\u001b[0m             updater_coroutine=self.updater.start_polling(\n\u001b[1;32m    729\u001b[0m                 \u001b[0mpoll_interval\u001b[0m\u001b[0;34m=\u001b[0m\u001b[0mpoll_interval\u001b[0m\u001b[0;34m,\u001b[0m\u001b[0;34m\u001b[0m\u001b[0;34m\u001b[0m\u001b[0m\n",
            "\u001b[0;32m/usr/local/lib/python3.10/dist-packages/telegram/ext/_application.py\u001b[0m in \u001b[0;36m__run\u001b[0;34m(self, updater_coroutine, stop_signals, close_loop)\u001b[0m\n\u001b[1;32m    935\u001b[0m             \u001b[0;32mfinally\u001b[0m\u001b[0;34m:\u001b[0m\u001b[0;34m\u001b[0m\u001b[0;34m\u001b[0m\u001b[0m\n\u001b[1;32m    936\u001b[0m                 \u001b[0;32mif\u001b[0m \u001b[0mclose_loop\u001b[0m\u001b[0;34m:\u001b[0m\u001b[0;34m\u001b[0m\u001b[0;34m\u001b[0m\u001b[0m\n\u001b[0;32m--> 937\u001b[0;31m                     \u001b[0mloop\u001b[0m\u001b[0;34m.\u001b[0m\u001b[0mclose\u001b[0m\u001b[0;34m(\u001b[0m\u001b[0;34m)\u001b[0m\u001b[0;34m\u001b[0m\u001b[0;34m\u001b[0m\u001b[0m\n\u001b[0m\u001b[1;32m    938\u001b[0m \u001b[0;34m\u001b[0m\u001b[0m\n\u001b[1;32m    939\u001b[0m     def create_task(\n",
            "\u001b[0;32m/usr/lib/python3.10/asyncio/unix_events.py\u001b[0m in \u001b[0;36mclose\u001b[0;34m(self)\u001b[0m\n\u001b[1;32m     66\u001b[0m \u001b[0;34m\u001b[0m\u001b[0m\n\u001b[1;32m     67\u001b[0m     \u001b[0;32mdef\u001b[0m \u001b[0mclose\u001b[0m\u001b[0;34m(\u001b[0m\u001b[0mself\u001b[0m\u001b[0;34m)\u001b[0m\u001b[0;34m:\u001b[0m\u001b[0;34m\u001b[0m\u001b[0;34m\u001b[0m\u001b[0m\n\u001b[0;32m---> 68\u001b[0;31m         \u001b[0msuper\u001b[0m\u001b[0;34m(\u001b[0m\u001b[0;34m)\u001b[0m\u001b[0;34m.\u001b[0m\u001b[0mclose\u001b[0m\u001b[0;34m(\u001b[0m\u001b[0;34m)\u001b[0m\u001b[0;34m\u001b[0m\u001b[0;34m\u001b[0m\u001b[0m\n\u001b[0m\u001b[1;32m     69\u001b[0m         \u001b[0;32mif\u001b[0m \u001b[0;32mnot\u001b[0m \u001b[0msys\u001b[0m\u001b[0;34m.\u001b[0m\u001b[0mis_finalizing\u001b[0m\u001b[0;34m(\u001b[0m\u001b[0;34m)\u001b[0m\u001b[0;34m:\u001b[0m\u001b[0;34m\u001b[0m\u001b[0;34m\u001b[0m\u001b[0m\n\u001b[1;32m     70\u001b[0m             \u001b[0;32mfor\u001b[0m \u001b[0msig\u001b[0m \u001b[0;32min\u001b[0m \u001b[0mlist\u001b[0m\u001b[0;34m(\u001b[0m\u001b[0mself\u001b[0m\u001b[0;34m.\u001b[0m\u001b[0m_signal_handlers\u001b[0m\u001b[0;34m)\u001b[0m\u001b[0;34m:\u001b[0m\u001b[0;34m\u001b[0m\u001b[0;34m\u001b[0m\u001b[0m\n",
            "\u001b[0;32m/usr/lib/python3.10/asyncio/selector_events.py\u001b[0m in \u001b[0;36mclose\u001b[0;34m(self)\u001b[0m\n\u001b[1;32m     82\u001b[0m     \u001b[0;32mdef\u001b[0m \u001b[0mclose\u001b[0m\u001b[0;34m(\u001b[0m\u001b[0mself\u001b[0m\u001b[0;34m)\u001b[0m\u001b[0;34m:\u001b[0m\u001b[0;34m\u001b[0m\u001b[0;34m\u001b[0m\u001b[0m\n\u001b[1;32m     83\u001b[0m         \u001b[0;32mif\u001b[0m \u001b[0mself\u001b[0m\u001b[0;34m.\u001b[0m\u001b[0mis_running\u001b[0m\u001b[0;34m(\u001b[0m\u001b[0;34m)\u001b[0m\u001b[0;34m:\u001b[0m\u001b[0;34m\u001b[0m\u001b[0;34m\u001b[0m\u001b[0m\n\u001b[0;32m---> 84\u001b[0;31m             \u001b[0;32mraise\u001b[0m \u001b[0mRuntimeError\u001b[0m\u001b[0;34m(\u001b[0m\u001b[0;34m\"Cannot close a running event loop\"\u001b[0m\u001b[0;34m)\u001b[0m\u001b[0;34m\u001b[0m\u001b[0;34m\u001b[0m\u001b[0m\n\u001b[0m\u001b[1;32m     85\u001b[0m         \u001b[0;32mif\u001b[0m \u001b[0mself\u001b[0m\u001b[0;34m.\u001b[0m\u001b[0mis_closed\u001b[0m\u001b[0;34m(\u001b[0m\u001b[0;34m)\u001b[0m\u001b[0;34m:\u001b[0m\u001b[0;34m\u001b[0m\u001b[0;34m\u001b[0m\u001b[0m\n\u001b[1;32m     86\u001b[0m             \u001b[0;32mreturn\u001b[0m\u001b[0;34m\u001b[0m\u001b[0;34m\u001b[0m\u001b[0m\n",
            "\u001b[0;31mRuntimeError\u001b[0m: Cannot close a running event loop"
          ]
        }
      ],
      "source": [
        "\n",
        "\n",
        "# Stages\n",
        "START_ROUTES, END_ROUTES = range(2)\n",
        "# Callback data\n",
        "ONE, TWO, THREE, FOUR = range(4)\n",
        "\n",
        "# Define a few command handlers. These usually take the two arguments update and context.\n",
        "'''\n",
        "async def start(update: Update, context: ContextTypes.DEFAULT_TYPE) -> None:\n",
        "    \"\"\"Send a message when the command /start is issued.\"\"\"\n",
        "    user = update.effective_user\n",
        "    await context.bot.send_message(chat_id=update.effective_chat.id, text=f'Hi {user.mention_markdown_v2()}\\!\\nWelcome', parse_mode=ParseMode.MARKDOWN_V2)\n",
        "'''\n",
        "\n",
        "## thie following code is trying from website 1\n",
        "\n",
        "async def start(update: Update, context: ContextTypes.DEFAULT_TYPE) -> int:\n",
        "    \"\"\"Starts the conversation and asks the user about their gender.\"\"\"\n",
        "    reply_keyboard = [[\"I am using a machine!\"], [\"I have finished a machine\"], [\"Leaderboard\"], [\"Contact Previous User\",\"Lost and Found\"]]\n",
        "    await update.message.reply_text(\n",
        "        \"Hi! Welcome to NUS Laundry Tracker, how can I help you? \",\n",
        "        reply_markup=ReplyKeyboardMarkup(\n",
        "            reply_keyboard, one_time_keyboard=True, resize_keyboard = True, input_field_placeholder=\"Command\"\n",
        "        ),\n",
        "    )\n",
        "\n",
        "async def echo(update: Update, context: ContextTypes.DEFAULT_TYPE) -> int:\n",
        "  \n",
        "  if \"using\" in update.message.text:\n",
        "    reply_keyboard = [[\"RCs\", \"Halls\",\"Residences\"]]\n",
        "    await update.message.reply_text(\n",
        "        \"Please select a location\",\n",
        "        reply_markup=ReplyKeyboardMarkup(\n",
        "            reply_keyboard, one_time_keyboard=False, resize_keyboard = True, input_field_placeholder=\"Command\"),)\n",
        "  elif \"finish\" in update.message.text:\n",
        "    await update.message.reply_text(\"Sorry we are still building on this function.\")\n",
        "  elif \"Leaderboard\" in update.message.text:\n",
        "    await update.message.reply_text(\"Sorry we are still building on the Leaderboard function.\")\n",
        "  if \"Contact\" in update.message.text:\n",
        "    await update.message.reply_text(\"Sorry, we are still building this function! Looking forward to it ;) , soon you can contact the previous user\")\n",
        "  if \"Lost\" in update.message.text:\n",
        "    await update.message.reply_text(\"Sorry, we are still building this function! Looking forward to it ;) , soon you can report a lost and found with us\")\n",
        "  if \"RCs\" in update.message.text:\n",
        "    reply_keyboard = [[\"RVRC\", \"CAPT\",\"RC4\"],[\"Tembusu\", \"NUSC\",\"YNC\"]]\n",
        "    await update.message.reply_text(\n",
        "        \"Please select a RC\",\n",
        "        reply_markup=ReplyKeyboardMarkup(\n",
        "            reply_keyboard, one_time_keyboard=False, resize_keyboard = True, input_field_placeholder=\"Command\"),)\n",
        "  if \"Halls\" in update.message.text or \"Residences\" in update.message.text:\n",
        "    await update.message.reply_text(\"Sorry, we have not provided our services there, please look forward to it ;)\")\n",
        "\n",
        "##NOW is to select a RC\n",
        "  if \"RVRC\" in update.message.text:\n",
        "    reply_keyboard = [[\"Blk E\", \"Blk F\"]]\n",
        "    await update.message.reply_text(\n",
        "        \"Please select a location\",\n",
        "        reply_markup=ReplyKeyboardMarkup(reply_keyboard, one_time_keyboard=False, resize_keyboard = True, input_field_placeholder=\"Command\"),)\n",
        "\n",
        "  if \"CAPT\" in update.message.text or \"RC4\" in update.message.text or \"Tembusu\" in update.message.text or \"NUSC\" in update.message.text or \"YNC\" in update.message.text:\n",
        "    reply_keyboard = [[\"Level 1\", \"Level 5\", \"Level 9\"],[\"Level 12\", \"Level 15\", \"Level 19\"]]\n",
        "    await update.message.reply_text(\n",
        "        \"Please select a location\",\n",
        "        reply_markup=ReplyKeyboardMarkup(reply_keyboard, one_time_keyboard=False, resize_keyboard = True, input_field_placeholder=\"Command\"),)\n",
        "  \n",
        "  # Select machine\n",
        "  if \"Blk\" in update.message.text or \"Level\" in update.message.text:\n",
        "    reply_keyboard = [[\"Washing Machine\", \"Dryer\"]]\n",
        "    await update.message.reply_text(\n",
        "        \"Please select an option\",\n",
        "        reply_markup=ReplyKeyboardMarkup(reply_keyboard, one_time_keyboard=False, resize_keyboard = True, input_field_placeholder=\"Command\"),)\n",
        "  if \"Washing Machine\" in update.message.text or \"Dryer\" in update.message.text:\n",
        "    reply_keyboard = [[\"Station 1\", \"Station 2\"], [\"Station 3\", \"Station 4\"]]\n",
        "    await update.message.reply_text(\n",
        "        \"Please select a machine\",\n",
        "        reply_markup=ReplyKeyboardMarkup(reply_keyboard, one_time_keyboard=True, resize_keyboard = True, input_field_placeholder=\"Command\"),)\n",
        "\n",
        "  if \"Station\" in update.message.text:\n",
        "    #await context.bot.send_message(chat_id=update.effective_chat.id, text=f'Hi {user.mention_markdown_v2()}\\!\\n your laundry will be done in 30 minutes.', parse_mode=ParseMode.MARKDOWN_V2)\n",
        "    await update.message.reply_text(\n",
        "        \"Your kaundry will be done in 30 minutes.\")\n",
        "\n",
        "\n",
        "async def help(update: Update, context: ContextTypes.DEFAULT_TYPE) -> None:\n",
        "    \"\"\"Send a message when the command /help is issued.\"\"\"\n",
        "    await context.bot.send_message(chat_id=update.effective_chat.id, text=\"You are saved!\")\n",
        "    #TODO 3 Register my handlers\n",
        "\n",
        "async def unknown(update: Update, context: ContextTypes.DEFAULT_TYPE) -> None:\n",
        "    \"\"\"In the case of an unknown command\"\"\"\n",
        "    #TODO 4\n",
        "    pass\n",
        "\n",
        "async def quadratic(update, context) -> None:\n",
        "    # This will give us all the words in the message, which will be something like \"/quadratic 1 2 3\"\n",
        "    # Hint: You can use the `split()` method of a Python string\n",
        "    # TODO 5\n",
        "    pass\n",
        "    \n",
        "async def cat(update, context) -> None:\n",
        "    timestamp = datetime.datetime.now().isoformat()\n",
        "    url = f\"https://cataas.com/cat?a={timestamp}\" # As Telegram caches the URL\n",
        "    #Hint: You can use the `reply_photo()` method\n",
        "    # TODO 6\n",
        "    pass\n",
        "\n",
        "# Bonus content - inline mode. To test this out, type `/setinline` in @BotFather and type @<your bot's name> in any of your other chats to talk to your bot\n",
        "async def inline_caps(update: Update, context: ContextTypes.DEFAULT_TYPE) -> None:\n",
        "    \"\"\"Capitalises the message.\"\"\"\n",
        "    query = update.inline_query.query\n",
        "    if not query:\n",
        "        return\n",
        "    results = []\n",
        "    results.append(\n",
        "        InlineQueryResultArticle(\n",
        "            id=query.upper(),\n",
        "            title='Caps',\n",
        "            input_message_content=InputTextMessageContent(query.upper())\n",
        "        )\n",
        "    )\n",
        "    await context.bot.answer_inline_query(update.inline_query.id, results)\n",
        "\n",
        "async def error(update: Update, context: ContextTypes.DEFAULT_TYPE) -> None:\n",
        "    \"\"\"Log errors caused by updates.\"\"\"\n",
        "    logger.error('Update \"%s\" caused error \"%s\"', update, context.error)\n",
        "\n",
        "def main() -> None:\n",
        "    \"\"\"Start the bot.\"\"\"\n",
        "    application = ApplicationBuilder().token(token).build()\n",
        "    \n",
        "    # Create your handlers here\n",
        "    start_handler = CommandHandler('start', start)\n",
        "    echo_handler = MessageHandler(filters.TEXT & (~filters.COMMAND), echo)\n",
        "    location1_handler = MessageHandler(filters.TEXT & (~filters.COMMAND), location1)\n",
        "    location2_handler = MessageHandler(filters.TEXT & (~filters.COMMAND), location2)\n",
        "\n",
        "\n",
        "    # Register your handlers here\n",
        "    application.add_handler(start_handler)\n",
        "    application.add_handler(echo_handler)\n",
        "    application.add_handler(location1_handler)\n",
        "    application.add_handler(location2_handler)\n",
        "\n",
        "    # Error handler\n",
        "    application.add_error_handler(error)\n",
        "    \n",
        "    # Add your quadratic and cat handlers here\n",
        "    # TODO 7\n",
        "\n",
        "    # We pass in the Telegram event loop as a nested event loop here - only for Jupyter\n",
        "    # Python version < 3.7\n",
        "    # loop = asyncio.get_event_loop()\n",
        "    # loop.create_task(application.run_polling())\n",
        "    # Python version >= 3.7\n",
        "    asyncio.run(application.run_polling())\n",
        "\n",
        "main()"
      ]
    }
  ],
  "metadata": {
    "colab": {
      "provenance": [],
      "include_colab_link": true
    },
    "kernelspec": {
      "display_name": "Python 3",
      "name": "python3"
    },
    "language_info": {
      "name": "python"
    }
  },
  "nbformat": 4,
  "nbformat_minor": 0
}